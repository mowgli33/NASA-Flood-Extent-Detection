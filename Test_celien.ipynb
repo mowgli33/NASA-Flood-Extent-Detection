{
 "cells": [
  {
   "cell_type": "code",
   "execution_count": 11,
   "metadata": {},
   "outputs": [
    {
     "name": "stdout",
     "output_type": "stream",
     "text": [
      "Image bangladesh_20170314t115609_x-2_y-23.png copiée dans le dossier de test.\n",
      "Image bangladesh_20170314t115609_x-4_y-15.png copiée dans le dossier de test.\n",
      "Image bangladesh_20170314t115609_x-5_y-34.png copiée dans le dossier de test.\n"
     ]
    }
   ],
   "source": [
    "import os\n",
    "import shutil\n",
    "\n",
    "# Répertoire où vous allez copier les images choisies pour le test\n",
    "test_dir = '../test_images/'\n",
    "\n",
    "# Liste des chemins absolus des images que vous avez choisies\n",
    "selected_images = [\n",
    "    '../archive/train/train/bangladesh_20170314t115609/tiles/flood_label/bangladesh_20170314t115609_x-2_y-23.png',\n",
    "    '../archive/train/train/bangladesh_20170314t115609/tiles/flood_label/bangladesh_20170314t115609_x-4_y-15.png',\n",
    "    '../archive/train/train/bangladesh_20170314t115609/tiles/flood_label/bangladesh_20170314t115609_x-5_y-34.png'\n",
    "]\n",
    "\n",
    "# Créer le dossier de test s'il n'existe pas\n",
    "if not os.path.exists(test_dir):\n",
    "    os.makedirs(test_dir)\n",
    "\n",
    "# Copier les images sélectionnées vers le répertoire de test\n",
    "for image_path in selected_images:\n",
    "    image_name = os.path.basename(image_path)  # Récupérer uniquement le nom du fichier\n",
    "    destination_path = os.path.join(test_dir, image_name)\n",
    "    \n",
    "    if os.path.exists(image_path):\n",
    "        shutil.copy(image_path, destination_path)\n",
    "        print(f\"Image {image_name} copiée dans le dossier de test.\")\n",
    "    else:\n",
    "        print(f\"L'image {image_name} n'existe pas dans le répertoire source.\")"
   ]
  }
 ],
 "metadata": {
  "kernelspec": {
   "display_name": "Python 3",
   "language": "python",
   "name": "python3"
  },
  "language_info": {
   "codemirror_mode": {
    "name": "ipython",
    "version": 3
   },
   "file_extension": ".py",
   "mimetype": "text/x-python",
   "name": "python",
   "nbconvert_exporter": "python",
   "pygments_lexer": "ipython3",
   "version": "3.13.0"
  }
 },
 "nbformat": 4,
 "nbformat_minor": 2
}
