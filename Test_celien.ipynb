{
 "cells": [
  {
   "cell_type": "markdown",
   "metadata": {},
   "source": [
    "# L'objectif est de sélectionner des images pertinentes pour la validation"
   ]
  },
  {
   "cell_type": "code",
   "execution_count": null,
   "metadata": {},
   "outputs": [],
   "source": [
    "import os\n",
    "import shutil\n",
    "\n",
    "# Répertoire où vous allez copier les images choisies pour le test\n",
    "test_dir = '../test_images/'\n",
    "\n",
    "# Liste des chemins absolus des images que vous avez choisies\n",
    "selected_images = [\n",
    "    '../archive/train/train/bangladesh_20170314t115609/tiles/flood_label/bangladesh_20170314t115609_x-2_y-23.png',\n",
    "    '../archive/train/train/bangladesh_20170314t115609/tiles/flood_label/bangladesh_20170314t115609_x-4_y-15.png',\n",
    "    '../archive/train/train/bangladesh_20170314t115609/tiles/flood_label/bangladesh_20170314t115609_x-5_y-34.png'\n",
    "]\n",
    "\n",
    "# Créer le dossier de test s'il n'existe pas\n",
    "if not os.path.exists(test_dir):\n",
    "    os.makedirs(test_dir)\n",
    "\n",
    "# Copier les images sélectionnées vers le répertoire de test\n",
    "for image_path in selected_images:\n",
    "    image_name = os.path.basename(image_path)  # Récupérer uniquement le nom du fichier\n",
    "    destination_path = os.path.join(test_dir, image_name)\n",
    "    \n",
    "    if os.path.exists(image_path):\n",
    "        shutil.copy(image_path, destination_path)\n",
    "        print(f\"Image {image_name} copiée dans le dossier de test.\")\n",
    "    else:\n",
    "        print(f\"L'image {image_name} n'existe pas dans le répertoire source.\")"
   ]
  }
 ],
 "metadata": {
  "language_info": {
   "name": "python"
  }
 },
 "nbformat": 4,
 "nbformat_minor": 2
}
